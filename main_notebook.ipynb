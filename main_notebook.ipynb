{
 "cells": [
  {
   "cell_type": "code",
   "execution_count": null,
   "metadata": {},
   "outputs": [],
   "source": [
    "import numpy as np\n",
    "import matplotlib.pyplot as plt\n",
    "import pandas as pd\n",
    "\n",
    "import requests\n",
    "import json\n",
    "\n",
    "from sklearn.preprocessing import StandardScaler\n",
    "from sklearn.preprocessing import OneHotEncoder\n",
    "\n",
    "import sklearn\n",
    "\n",
    "####################################################\n",
    "# Load the data\n",
    "df = pd.read_csv(\"test.csv.xz\", compression='xz')\n",
    "#print(df.head())\n",
    "\n",
    "# take a random sample of 1000 rows\n",
    "df = df.sample(n=10000)\n",
    "\n",
    "ontime = df[df['DEP_DEL15'] == 0]\n",
    "delayed = df[df['DEP_DEL15'] == 1]"
   ]
  },
  {
   "cell_type": "code",
   "execution_count": null,
   "metadata": {},
   "outputs": [],
   "source": [
    "from sklearn.preprocessing import LabelEncoder\n",
    "le = LabelEncoder()\n",
    "\n",
    "def clean_labels_encoder(list_of_labels, df):\n",
    "    for label in list_of_labels:\n",
    "        df[label] = le.fit_transform(df[label])\n",
    "    return df\n",
    "\n",
    "# clean the labels\n",
    "list_of_labels = ['CARRIER_NAME', 'DEPARTING_AIRPORT', 'PREVIOUS_AIRPORT', 'DEP_TIME_BLK']\n",
    "df = clean_labels_encoder(list_of_labels, df)\n",
    "\n",
    "# Drop the columns that are not needed\n",
    "df = df.drop(['CARRIER_HISTORICAL', 'DEP_AIRPORT_HIST', 'DAY_HISTORICAL',\n",
    "       'DEP_BLOCK_HIST'], axis=1)\n",
    "\n",
    "# Fill the missing values\n",
    "df.fillna(df.mean(), inplace=True)\n"
   ]
  },
  {
   "cell_type": "code",
   "execution_count": null,
   "metadata": {},
   "outputs": [],
   "source": [
    "from sklearn.model_selection import train_test_split\n",
    "\n",
    "X = df.drop('DEP_DEL15', axis=1)\n",
    "y = df['DEP_DEL15']\n",
    "\n",
    "X_train, X_test, y_train, y_test = train_test_split(X, y, test_size=0.2, random_state=42)\n",
    "\n",
    "from sklearn.ensemble import RandomForestClassifier\n",
    "from sklearn.metrics import accuracy_score\n",
    "from sklearn.metrics import confusion_matrix\n",
    "from sklearn.metrics import classification_report\n",
    "\n",
    "rf = RandomForestClassifier(n_estimators=100, random_state=42)\n",
    "rf.fit(X_train, y_train)\n",
    "y_pred = rf.predict(X_test)\n",
    "\n",
    "print(accuracy_score(y_test, y_pred))\n",
    "print(confusion_matrix(y_test, y_pred))\n",
    "print(classification_report(y_test, y_pred))"
   ]
  }
 ],
 "metadata": {
  "language_info": {
   "name": "python"
  }
 },
 "nbformat": 4,
 "nbformat_minor": 2
}
